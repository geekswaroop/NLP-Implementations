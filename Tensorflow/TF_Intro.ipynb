{
  "nbformat": 4,
  "nbformat_minor": 0,
  "metadata": {
    "colab": {
      "name": "TF-Intro.ipynb",
      "provenance": []
    },
    "kernelspec": {
      "name": "python3",
      "display_name": "Python 3"
    }
  },
  "cells": [
    {
      "cell_type": "code",
      "metadata": {
        "id": "Vq6Rd4DaSzWu",
        "colab_type": "code",
        "colab": {}
      },
      "source": [
        "import tensorflow as tf\n",
        "import numpy as np"
      ],
      "execution_count": 0,
      "outputs": []
    },
    {
      "cell_type": "code",
      "metadata": {
        "id": "IrHwvSLXUW2c",
        "colab_type": "code",
        "colab": {}
      },
      "source": [
        "graph = tf.Graph()\n",
        "session = tf.InteractiveSession(graph= graph)"
      ],
      "execution_count": 0,
      "outputs": []
    },
    {
      "cell_type": "markdown",
      "metadata": {
        "id": "W4ztuCawUll6",
        "colab_type": "text"
      },
      "source": [
        "Next, we define W, x, b and h"
      ]
    },
    {
      "cell_type": "code",
      "metadata": {
        "id": "-RMvnotmUh0G",
        "colab_type": "code",
        "colab": {}
      },
      "source": [
        "W = tf.Variable(tf.random_uniform( shape = [10,5], minval=-0.1, maxval=0.1,dtype=tf.float32),name='W')\n",
        "x=tf.placeholder( tf.float32, shape=[1,10], name='x') #Why shape is 1,10 and not 5,10?\n",
        "b = tf.Variable(tf.zeros(shape=[5]),  name= 'b')\n",
        "h= tf.nn.sigmoid(tf.matmul(x, W)+b)"
      ],
      "execution_count": 0,
      "outputs": []
    },
    {
      "cell_type": "code",
      "metadata": {
        "id": "lqxoIh96WC7K",
        "colab_type": "code",
        "colab": {}
      },
      "source": [
        "tf.global_variables_initializer().run() "
      ],
      "execution_count": 0,
      "outputs": []
    },
    {
      "cell_type": "code",
      "metadata": {
        "id": "8SF04chLWh3j",
        "colab_type": "code",
        "colab": {}
      },
      "source": [
        "h_eval = session.run(h, feed_dict={x: np.random.rand(1, 10)})"
      ],
      "execution_count": 0,
      "outputs": []
    },
    {
      "cell_type": "code",
      "metadata": {
        "id": "6iRHM-mfW0S2",
        "colab_type": "code",
        "colab": {}
      },
      "source": [
        "session.close()"
      ],
      "execution_count": 0,
      "outputs": []
    },
    {
      "cell_type": "code",
      "metadata": {
        "id": "giMLKEHsXBl-",
        "colab_type": "code",
        "colab": {}
      },
      "source": [
        ""
      ],
      "execution_count": 0,
      "outputs": []
    }
  ]
}