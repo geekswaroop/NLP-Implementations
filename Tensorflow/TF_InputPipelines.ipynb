{
  "nbformat": 4,
  "nbformat_minor": 0,
  "metadata": {
    "colab": {
      "name": "TF-InputPipelines.ipynb",
      "provenance": []
    },
    "kernelspec": {
      "name": "python3",
      "display_name": "Python 3"
    }
  },
  "cells": [
    {
      "cell_type": "code",
      "metadata": {
        "id": "ywtpwoBUvBsR",
        "colab_type": "code",
        "colab": {}
      },
      "source": [
        "import tensorflow as tf\n",
        "import numpy as np"
      ],
      "execution_count": 0,
      "outputs": []
    },
    {
      "cell_type": "code",
      "metadata": {
        "id": "InWUsvqAvPVy",
        "colab_type": "code",
        "outputId": "d44c996e-90e3-467a-b33e-7a0849d5ad8e",
        "colab": {
          "base_uri": "https://localhost:8080/",
          "height": 71
        }
      },
      "source": [
        "graph = tf.Graph() # Creates a graph\n",
        "session = tf.InteractiveSession(graph=graph) # Creates a session"
      ],
      "execution_count": 0,
      "outputs": [
        {
          "output_type": "stream",
          "text": [
            "/usr/local/lib/python3.6/dist-packages/tensorflow_core/python/client/session.py:1750: UserWarning: An interactive session is already active. This can cause out-of-memory errors in some cases. You must explicitly call `InteractiveSession.close()` to release resources held by the other session(s).\n",
            "  warnings.warn('An interactive session is already active. This can '\n"
          ],
          "name": "stderr"
        }
      ]
    },
    {
      "cell_type": "markdown",
      "metadata": {
        "id": "DXO0kR57w4zr",
        "colab_type": "text"
      },
      "source": [
        "Create a filenames queue so that it can be used as an input to the reader"
      ]
    },
    {
      "cell_type": "code",
      "metadata": {
        "id": "KrfBKqTJvRJD",
        "colab_type": "code",
        "colab": {}
      },
      "source": [
        "filenames = ['test%d.txt'%i for i in range(1,4)]"
      ],
      "execution_count": 0,
      "outputs": []
    },
    {
      "cell_type": "code",
      "metadata": {
        "id": "7AIPrulmxBjI",
        "colab_type": "code",
        "outputId": "492e40dd-6ee8-404e-e09a-3d337455cb86",
        "colab": {
          "base_uri": "https://localhost:8080/",
          "height": 34
        }
      },
      "source": [
        "filenames"
      ],
      "execution_count": 0,
      "outputs": [
        {
          "output_type": "execute_result",
          "data": {
            "text/plain": [
              "['test1.txt', 'test2.txt', 'test3.txt']"
            ]
          },
          "metadata": {
            "tags": []
          },
          "execution_count": 9
        }
      ]
    },
    {
      "cell_type": "code",
      "metadata": {
        "id": "l7N6iCT4xCfi",
        "colab_type": "code",
        "colab": {}
      },
      "source": [
        "filename_queue = tf.train.string_input_producer(filenames, shuffle=True, capacity=3, name= 'string_input_producer' )"
      ],
      "execution_count": 0,
      "outputs": []
    },
    {
      "cell_type": "markdown",
      "metadata": {
        "id": "QiFF0E2wSmok",
        "colab_type": "text"
      },
      "source": [
        "Comparision Operators"
      ]
    },
    {
      "cell_type": "code",
      "metadata": {
        "id": "OUBDn5a6SmU7",
        "colab_type": "code",
        "colab": {}
      },
      "source": [
        "x= tf.constant([[1,2],[3,4]], dtype=tf.float32)\n",
        "y= tf.constant([[4,3],[3,2]], dtype=tf.float32)"
      ],
      "execution_count": 0,
      "outputs": []
    },
    {
      "cell_type": "code",
      "metadata": {
        "id": "OFwK0L1_xqdJ",
        "colab_type": "code",
        "outputId": "05a96a15-c1b8-4482-e6d2-06a2c76dbc72",
        "colab": {
          "base_uri": "https://localhost:8080/",
          "height": 34
        }
      },
      "source": [
        "x_equal_y = tf.equal(x,y, name = None)\n",
        "print(x_equal_y)"
      ],
      "execution_count": 0,
      "outputs": [
        {
          "output_type": "stream",
          "text": [
            "Tensor(\"Equal_1:0\", shape=(2, 2), dtype=bool)\n"
          ],
          "name": "stdout"
        }
      ]
    },
    {
      "cell_type": "code",
      "metadata": {
        "id": "xb4cGcK7SxvP",
        "colab_type": "code",
        "outputId": "7f27ad07-cae1-4adf-aec6-76d986d30974",
        "colab": {
          "base_uri": "https://localhost:8080/",
          "height": 85
        }
      },
      "source": [
        "x_less_y = tf.less(x,y,name=None)\n",
        "print(x_less_y)\n",
        "x_greaterEqual_y = tf.greater_equal(x,y, name=None)\n",
        "print(x_greaterEqual_y)\n",
        "tf.print(x_greaterEqual_y)\n",
        "with tf.Session() as sess:  print(x_greaterEqual_y.eval()) \n"
      ],
      "execution_count": 0,
      "outputs": [
        {
          "output_type": "stream",
          "text": [
            "Tensor(\"Less_2:0\", shape=(2, 2), dtype=bool)\n",
            "Tensor(\"GreaterEqual_2:0\", shape=(2, 2), dtype=bool)\n",
            "[[False False]\n",
            " [ True  True]]\n"
          ],
          "name": "stdout"
        }
      ]
    },
    {
      "cell_type": "markdown",
      "metadata": {
        "id": "hmDqQup8UCng",
        "colab_type": "text"
      },
      "source": [
        "Implementing condition operator"
      ]
    },
    {
      "cell_type": "code",
      "metadata": {
        "id": "z75bdE9NTJ2D",
        "colab_type": "code",
        "colab": {}
      },
      "source": [
        "condition = [[True, False], [True, False]]"
      ],
      "execution_count": 0,
      "outputs": []
    },
    {
      "cell_type": "code",
      "metadata": {
        "id": "JrYZZE1AUIBy",
        "colab_type": "code",
        "outputId": "0add438f-ec3a-4e37-9dd1-34b8835f4eae",
        "colab": {
          "base_uri": "https://localhost:8080/",
          "height": 68
        }
      },
      "source": [
        "x_cond_y = tf.where(condition, x,y)"
      ],
      "execution_count": 0,
      "outputs": [
        {
          "output_type": "stream",
          "text": [
            "WARNING:tensorflow:From <ipython-input-18-292d2b41f1cb>:1: where (from tensorflow.python.ops.array_ops) is deprecated and will be removed in a future version.\n",
            "Instructions for updating:\n",
            "Use tf.where in 2.0, which has the same broadcast rule as np.where\n"
          ],
          "name": "stdout"
        }
      ]
    },
    {
      "cell_type": "code",
      "metadata": {
        "id": "6GIOW-EUULGS",
        "colab_type": "code",
        "outputId": "39acef27-d39d-42e8-e95a-aa4e02d0ea2f",
        "colab": {
          "base_uri": "https://localhost:8080/",
          "height": 51
        }
      },
      "source": [
        "with tf.Session() as sess:  print(x_cond_y.eval()) \n"
      ],
      "execution_count": 0,
      "outputs": [
        {
          "output_type": "stream",
          "text": [
            "[[1. 3.]\n",
            " [3. 2.]]\n"
          ],
          "name": "stdout"
        }
      ]
    },
    {
      "cell_type": "markdown",
      "metadata": {
        "id": "KsKOYxwyUTXL",
        "colab_type": "text"
      },
      "source": [
        "**Mathematical Operators**"
      ]
    },
    {
      "cell_type": "code",
      "metadata": {
        "id": "gyI2A-Y0UPR7",
        "colab_type": "code",
        "colab": {}
      },
      "source": [
        ""
      ],
      "execution_count": 0,
      "outputs": []
    }
  ]
}